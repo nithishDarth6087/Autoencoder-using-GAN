{
  "cells": [
    {
      "cell_type": "markdown",
      "metadata": {
        "id": "oPGxh35GPnOh"
      },
      "source": [
        "1.encoding"
      ]
    },
    {
      "cell_type": "code",
      "execution_count": null,
      "metadata": {
        "colab": {
          "base_uri": "https://localhost:8080/"
        },
        "id": "xC1x02GePzaj",
        "outputId": "85081354-b432-4d35-fc56-e4345fcb8d00"
      },
      "outputs": [
        {
          "name": "stdout",
          "output_type": "stream",
          "text": [
            "Original DataFrame:\n",
            "       duration protocol_type   service  flag  src_bytes  dst_bytes  land  \\\n",
            "0             0           tcp  ftp_data    SF        491          0     0   \n",
            "1             0           udp     other    SF        146          0     0   \n",
            "2             0           tcp   private    S0          0          0     0   \n",
            "3             0           tcp      http    SF        232       8153     0   \n",
            "4             0           tcp      http    SF        199        420     0   \n",
            "...         ...           ...       ...   ...        ...        ...   ...   \n",
            "95946         0           tcp   private   REJ          0          0     0   \n",
            "95947         0           tcp      http    SF        254       2277     0   \n",
            "95948         0           tcp   private    S0          0          0     0   \n",
            "95949         0           tcp   private  RSTR          0          0     0   \n",
            "95950         0           udp  domain_u    SF         44        129     0   \n",
            "\n",
            "       wrong_fragment  urgent  hot  ...  dst_host_same_srv_rate  \\\n",
            "0                   0       0    0  ...                    0.17   \n",
            "1                   0       0    0  ...                    0.00   \n",
            "2                   0       0    0  ...                    0.10   \n",
            "3                   0       0    0  ...                    1.00   \n",
            "4                   0       0    0  ...                    1.00   \n",
            "...               ...     ...  ...  ...                     ...   \n",
            "95946               0       0    0  ...                    0.00   \n",
            "95947               0       0    0  ...                    1.00   \n",
            "95948               0       0    0  ...                    0.10   \n",
            "95949               0       0    0  ...                    0.00   \n",
            "95950               0       0    0  ...                    1.00   \n",
            "\n",
            "       dst_host_diff_srv_rate  dst_host_same_src_port_rate  \\\n",
            "0                        0.03                         0.17   \n",
            "1                        0.60                         0.88   \n",
            "2                        0.05                         0.00   \n",
            "3                        0.00                         0.03   \n",
            "4                        0.00                         0.00   \n",
            "...                       ...                          ...   \n",
            "95946                    1.00                         0.00   \n",
            "95947                    0.00                         0.04   \n",
            "95948                    0.07                         0.00   \n",
            "95949                    0.58                         0.57   \n",
            "95950                    0.00                         0.00   \n",
            "\n",
            "       dst_host_srv_diff_host_rate  dst_host_serror_rate  \\\n",
            "0                             0.00                  0.00   \n",
            "1                             0.00                  0.00   \n",
            "2                             0.00                  1.00   \n",
            "3                             0.04                  0.03   \n",
            "4                             0.00                  0.00   \n",
            "...                            ...                   ...   \n",
            "95946                         0.00                  0.09   \n",
            "95947                         0.04                  0.00   \n",
            "95948                         0.00                  1.00   \n",
            "95949                         0.00                  0.00   \n",
            "95950                         0.00                  0.00   \n",
            "\n",
            "       dst_host_srv_serror_rate  dst_host_rerror_rate  \\\n",
            "0                          0.00                  0.05   \n",
            "1                          0.00                  0.00   \n",
            "2                          1.00                  0.00   \n",
            "3                          0.01                  0.00   \n",
            "4                          0.00                  0.00   \n",
            "...                         ...                   ...   \n",
            "95946                      0.00                  0.91   \n",
            "95947                      0.00                  0.00   \n",
            "95948                      1.00                  0.00   \n",
            "95949                      0.00                  0.58   \n",
            "95950                      0.00                  0.00   \n",
            "\n",
            "       dst_host_srv_rerror_rate     labels  attack_method  \n",
            "0                          0.00     normal         normal  \n",
            "1                          0.00     normal         normal  \n",
            "2                          0.00    neptune           ddos  \n",
            "3                          0.01     normal         normal  \n",
            "4                          0.00     normal         normal  \n",
            "...                         ...        ...            ...  \n",
            "95946                      1.00      satan          probe  \n",
            "95947                      0.00     normal         normal  \n",
            "95948                      0.00    neptune           ddos  \n",
            "95949                      1.00  portsweep          probe  \n",
            "95950                      0.00     normal         normal  \n",
            "\n",
            "[95951 rows x 43 columns]\n",
            "\n",
            "Encoded DataFrame:\n",
            "       duration  protocol_type  service  flag  src_bytes  dst_bytes  land  \\\n",
            "0             0              1       20     9        491          0     0   \n",
            "1             0              2       43     9        146          0     0   \n",
            "2             0              1       48     5          0          0     0   \n",
            "3             0              1       23     9        232       8153     0   \n",
            "4             0              1       23     9        199        420     0   \n",
            "...         ...            ...      ...   ...        ...        ...   ...   \n",
            "95946         0              1       48     1          0          0     0   \n",
            "95947         0              1       23     9        254       2277     0   \n",
            "95948         0              1       48     5          0          0     0   \n",
            "95949         0              1       48     4          0          0     0   \n",
            "95950         0              2       12     9         44        129     0   \n",
            "\n",
            "       wrong_fragment  urgent  hot  ...  dst_host_same_srv_rate  \\\n",
            "0                   0       0    0  ...                    0.17   \n",
            "1                   0       0    0  ...                    0.00   \n",
            "2                   0       0    0  ...                    0.10   \n",
            "3                   0       0    0  ...                    1.00   \n",
            "4                   0       0    0  ...                    1.00   \n",
            "...               ...     ...  ...  ...                     ...   \n",
            "95946               0       0    0  ...                    0.00   \n",
            "95947               0       0    0  ...                    1.00   \n",
            "95948               0       0    0  ...                    0.10   \n",
            "95949               0       0    0  ...                    0.00   \n",
            "95950               0       0    0  ...                    1.00   \n",
            "\n",
            "       dst_host_diff_srv_rate  dst_host_same_src_port_rate  \\\n",
            "0                        0.03                         0.17   \n",
            "1                        0.60                         0.88   \n",
            "2                        0.05                         0.00   \n",
            "3                        0.00                         0.03   \n",
            "4                        0.00                         0.00   \n",
            "...                       ...                          ...   \n",
            "95946                    1.00                         0.00   \n",
            "95947                    0.00                         0.04   \n",
            "95948                    0.07                         0.00   \n",
            "95949                    0.58                         0.57   \n",
            "95950                    0.00                         0.00   \n",
            "\n",
            "       dst_host_srv_diff_host_rate  dst_host_serror_rate  \\\n",
            "0                             0.00                  0.00   \n",
            "1                             0.00                  0.00   \n",
            "2                             0.00                  1.00   \n",
            "3                             0.04                  0.03   \n",
            "4                             0.00                  0.00   \n",
            "...                            ...                   ...   \n",
            "95946                         0.00                  0.09   \n",
            "95947                         0.04                  0.00   \n",
            "95948                         0.00                  1.00   \n",
            "95949                         0.00                  0.00   \n",
            "95950                         0.00                  0.00   \n",
            "\n",
            "       dst_host_srv_serror_rate  dst_host_rerror_rate  \\\n",
            "0                          0.00                  0.05   \n",
            "1                          0.00                  0.00   \n",
            "2                          1.00                  0.00   \n",
            "3                          0.01                  0.00   \n",
            "4                          0.00                  0.00   \n",
            "...                         ...                   ...   \n",
            "95946                      0.00                  0.91   \n",
            "95947                      0.00                  0.00   \n",
            "95948                      1.00                  0.00   \n",
            "95949                      0.00                  0.58   \n",
            "95950                      0.00                  0.00   \n",
            "\n",
            "       dst_host_srv_rerror_rate  labels  attack_method  \n",
            "0                          0.00      16              1  \n",
            "1                          0.00      16              1  \n",
            "2                          0.00      14              0  \n",
            "3                          0.01      16              1  \n",
            "4                          0.00      16              1  \n",
            "...                         ...     ...            ...  \n",
            "95946                      1.00      25              2  \n",
            "95947                      0.00      16              1  \n",
            "95948                      0.00      14              0  \n",
            "95949                      1.00      20              2  \n",
            "95950                      0.00      16              1  \n",
            "\n",
            "[95951 rows x 43 columns]\n"
          ]
        }
      ],
      "source": [
        "from sklearn.preprocessing import LabelEncoder\n",
        "import pandas as pd\n",
        "\n",
        "# To read the dataset from a CSV file\n",
        "df = pd.read_csv('Original_dataset.csv')\n",
        "\n",
        "# To create a new DataFrame for encoded values\n",
        "encoded_df = df.copy()\n",
        "\n",
        "# Initialize LabelEncoder\n",
        "label_encoder = LabelEncoder()\n",
        "\n",
        "\n",
        "# Iterate through each column in the original DataFrame\n",
        "for column in df.columns:\n",
        "    # To Check if the column has string values (categorical)\n",
        "    if df[column].dtype == 'object':\n",
        "        # LabelEncoder to transform the categorical values to numerical values\n",
        "        encoded_df[column] = label_encoder.fit_transform(df[column])\n",
        "\n",
        "# Save the encoded DataFrame to a new CSV file\n",
        "encoded_df.to_csv('encoded_best_data.csv', index=False)\n",
        "\n",
        "# Display the original and encoded DataFrames\n",
        "print(\"Original DataFrame:\")\n",
        "print(df)\n",
        "print(\"\\nEncoded DataFrame:\")\n",
        "print(encoded_df)\n"
      ]
    },
    {
      "cell_type": "markdown",
      "metadata": {
        "id": "WxUvGksRMwQr"
      },
      "source": [
        "2.to split the dataset into two"
      ]
    },
    {
      "cell_type": "code",
      "execution_count": null,
      "metadata": {
        "id": "-HHaQRS0M1r1"
      },
      "outputs": [],
      "source": [
        "import pandas as pd\n",
        "from sklearn.model_selection import train_test_split\n",
        "\n",
        "# Load your dataset (replace 'your_dataset.csv' with the actual filename and path)\n",
        "df = pd.read_csv('encoded_best_data.csv')\n",
        "\n",
        "# Assuming 'attack_method' is the column containing the target variable\n",
        "X = df.drop('attack_method', axis=1)  # Features\n",
        "y = df['attack_method']  # Target variable\n",
        "\n",
        "# Split the dataset into 85% training and 20% testing\n",
        "df_train, df_test = train_test_split(df, test_size=0.20, random_state=42)\n",
        "\n",
        "# Optionally, you can save these datasets to new CSV files\n",
        "df_train.to_csv('encoded_best_train_data.csv', index=False)\n",
        "df_test.to_csv('encoded_best_test_data.csv', index=False)"
      ]
    },
    {
      "cell_type": "code",
      "execution_count": null,
      "metadata": {
        "id": "6ppHGPtDR63y"
      },
      "outputs": [],
      "source": [
        "from google.colab import drive\n",
        "drive.mount('/content/drive')"
      ]
    },
    {
      "cell_type": "markdown",
      "metadata": {
        "id": "v7ekfmKfTd8M"
      },
      "source": [
        "3. To count labels"
      ]
    },
    {
      "cell_type": "code",
      "execution_count": null,
      "metadata": {
        "colab": {
          "base_uri": "https://localhost:8080/"
        },
        "id": "MmSKOy4XUGpT",
        "outputId": "e046aaef-1893-44f0-8fb7-898009c1fa27"
      },
      "outputs": [
        {
          "name": "stdout",
          "output_type": "stream",
          "text": [
            "\n",
            "Count of labels in 'attack_method':\n",
            "1    40318\n",
            "0    27965\n",
            "2     7148\n",
            "3     1197\n",
            "4       78\n",
            "5       54\n",
            "Name: attack_method, dtype: int64\n",
            "\n",
            "There are 6 unique labels in the 'attack_method' column.\n"
          ]
        }
      ],
      "source": [
        "\n",
        "df = pd.read_csv('encoded_best_train_data.csv')\n",
        "\n",
        "# Count and display the number of labels in attack_method\n",
        "if 'attack_method' in df:\n",
        "    print(\"\\nCount of labels in 'attack_method':\")\n",
        "    label_counts = df['attack_method'].value_counts()\n",
        "    print(label_counts)\n",
        "    print(f\"\\nThere are {len(label_counts)} unique labels in the 'attack_method' column.\")\n",
        "else:\n",
        "    print(\"\\n'attack_method' column was not found in the DataFrame.\")"
      ]
    },
    {
      "cell_type": "markdown",
      "metadata": {
        "id": "79riMA7e_xUa"
      },
      "source": [
        "4.gan"
      ]
    },
    {
      "cell_type": "markdown",
      "metadata": {
        "id": "HXRnDMxligcH"
      },
      "source": [
        "final problem"
      ]
    },
    {
      "cell_type": "code",
      "execution_count": null,
      "metadata": {
        "colab": {
          "base_uri": "https://localhost:8080/"
        },
        "id": "UoW-fIlqjjqY",
        "outputId": "4c594331-e0b7-48b3-a6db-d950497c400f"
      },
      "outputs": [
        {
          "name": "stdout",
          "output_type": "stream",
          "text": [
            "Requirement already satisfied: ctgan in /usr/local/lib/python3.10/dist-packages (0.9.0)\n",
            "Requirement already satisfied: tqdm<5,>=4.15 in /usr/local/lib/python3.10/dist-packages (from ctgan) (4.66.2)\n",
            "Requirement already satisfied: rdt<2.0,>=1.6.1 in /usr/local/lib/python3.10/dist-packages (from ctgan) (1.9.2)\n",
            "Requirement already satisfied: numpy<2,>=1.23.3 in /usr/local/lib/python3.10/dist-packages (from ctgan) (1.25.2)\n",
            "Requirement already satisfied: scikit-learn<2,>=1.1.3 in /usr/local/lib/python3.10/dist-packages (from ctgan) (1.2.2)\n",
            "Requirement already satisfied: pandas>=1.3.4 in /usr/local/lib/python3.10/dist-packages (from ctgan) (1.5.3)\n",
            "Requirement already satisfied: torch>=1.11.0 in /usr/local/lib/python3.10/dist-packages (from ctgan) (2.1.0+cu121)\n",
            "Requirement already satisfied: python-dateutil>=2.8.1 in /usr/local/lib/python3.10/dist-packages (from pandas>=1.3.4->ctgan) (2.8.2)\n",
            "Requirement already satisfied: pytz>=2020.1 in /usr/local/lib/python3.10/dist-packages (from pandas>=1.3.4->ctgan) (2023.4)\n",
            "Requirement already satisfied: Faker<20,>=17 in /usr/local/lib/python3.10/dist-packages (from rdt<2.0,>=1.6.1->ctgan) (19.13.0)\n",
            "Requirement already satisfied: scipy<2,>=1.9.2 in /usr/local/lib/python3.10/dist-packages (from rdt<2.0,>=1.6.1->ctgan) (1.11.4)\n",
            "Requirement already satisfied: joblib>=1.1.1 in /usr/local/lib/python3.10/dist-packages (from scikit-learn<2,>=1.1.3->ctgan) (1.3.2)\n",
            "Requirement already satisfied: threadpoolctl>=2.0.0 in /usr/local/lib/python3.10/dist-packages (from scikit-learn<2,>=1.1.3->ctgan) (3.2.0)\n",
            "Requirement already satisfied: filelock in /usr/local/lib/python3.10/dist-packages (from torch>=1.11.0->ctgan) (3.13.1)\n",
            "Requirement already satisfied: typing-extensions in /usr/local/lib/python3.10/dist-packages (from torch>=1.11.0->ctgan) (4.9.0)\n",
            "Requirement already satisfied: sympy in /usr/local/lib/python3.10/dist-packages (from torch>=1.11.0->ctgan) (1.12)\n",
            "Requirement already satisfied: networkx in /usr/local/lib/python3.10/dist-packages (from torch>=1.11.0->ctgan) (3.2.1)\n",
            "Requirement already satisfied: jinja2 in /usr/local/lib/python3.10/dist-packages (from torch>=1.11.0->ctgan) (3.1.3)\n",
            "Requirement already satisfied: fsspec in /usr/local/lib/python3.10/dist-packages (from torch>=1.11.0->ctgan) (2023.6.0)\n",
            "Requirement already satisfied: triton==2.1.0 in /usr/local/lib/python3.10/dist-packages (from torch>=1.11.0->ctgan) (2.1.0)\n",
            "Requirement already satisfied: six>=1.5 in /usr/local/lib/python3.10/dist-packages (from python-dateutil>=2.8.1->pandas>=1.3.4->ctgan) (1.16.0)\n",
            "Requirement already satisfied: MarkupSafe>=2.0 in /usr/local/lib/python3.10/dist-packages (from jinja2->torch>=1.11.0->ctgan) (2.1.5)\n",
            "Requirement already satisfied: mpmath>=0.19 in /usr/local/lib/python3.10/dist-packages (from sympy->torch>=1.11.0->ctgan) (1.3.0)\n"
          ]
        },
        {
          "name": "stderr",
          "output_type": "stream",
          "text": [
            "Gen. (-1.47) | Discrim. (-0.82): 100%|██████████| 300/300 [26:25<00:00,  5.28s/it]\n",
            "Gen. (-1.58) | Discrim. (-0.30): 100%|██████████| 300/300 [01:29<00:00,  3.35it/s]\n",
            "Gen. (-1.24) | Discrim. (0.36): 100%|██████████| 300/300 [00:53<00:00,  5.57it/s]\n"
          ]
        },
        {
          "name": "stdout",
          "output_type": "stream",
          "text": [
            "Augmented balanced dataset with original and synthetic data created and saved.\n"
          ]
        }
      ],
      "source": [
        "import pandas as pd\n",
        "!pip install --upgrade ctgan\n",
        "from ctgan import CTGAN\n",
        "from sklearn.utils import shuffle\n",
        "\n",
        "# Function to apply non-negativity constraint and round decimals\n",
        "def clean_data(data):\n",
        "    return data.clip(lower=0).round(2)\n",
        "\n",
        "# Load the original dataset and ensure no label 5\n",
        "real_data = pd.read_csv('/content/encoded_best_train_data.csv')\n",
        "real_data = real_data[real_data['attack_method'] != 5]\n",
        "\n",
        "# Define the desired final counts for each label, including label 1 as is\n",
        "desired_counts = {\n",
        "    0: 9763,\n",
        "    1: real_data[real_data['attack_method'] == 1].shape[0],  # Keep label 1 as is\n",
        "    2: 2791 + real_data[real_data['attack_method'] == 2].shape[0],\n",
        "    3: 7967 + real_data[real_data['attack_method'] == 3].shape[0],\n",
        "    4: 9715 + real_data[real_data['attack_method'] == 4].shape[0],\n",
        "}\n",
        "\n",
        "# Initialize the CTGAN model\n",
        "ctgan_model = CTGAN(verbose=True)\n",
        "\n",
        "# Prepare a dataframe to collect all processed data\n",
        "processed_data = pd.DataFrame()\n",
        "\n",
        "for label, desired_count in desired_counts.items():\n",
        "    # Existing count in real_data\n",
        "    current_count = real_data[real_data['attack_method'] == label].shape[0]\n",
        "\n",
        "    # Check if the label needs upsampling\n",
        "    if current_count < desired_count:\n",
        "        # Calculate the number of synthetic samples needed\n",
        "        synthetic_needed = desired_count - current_count\n",
        "\n",
        "        # Filter the training data for the current label\n",
        "        training_data = real_data[real_data['attack_method'] == label].copy()\n",
        "\n",
        "        # Fit the CTGAN model on the current label's data\n",
        "        ctgan_model.fit(training_data)\n",
        "\n",
        "        # Generate synthetic samples and clean them\n",
        "        synthetic_data = ctgan_model.sample(synthetic_needed)\n",
        "        synthetic_data = clean_data(synthetic_data)  # Apply non-negativity and rounding\n",
        "        synthetic_data['attack_method'] = label  # Ensure correct label assignment\n",
        "\n",
        "        # Append both original and synthetic data for the current label\n",
        "        processed_data = pd.concat([processed_data, training_data, synthetic_data])\n",
        "    else:\n",
        "        # For labels that do not need synthetic data, or need downsampling\n",
        "        processed_data = pd.concat([processed_data, real_data[real_data['attack_method'] == label].sample(desired_count, random_state=42)])\n",
        "\n",
        "# Re-indexing after concatenation\n",
        "processed_data.reset_index(drop=True, inplace=True)\n",
        "\n",
        "# Shuffle the dataset to mix original and synthetic samples evenly\n",
        "processed_data = shuffle(processed_data, random_state=42)\n",
        "\n",
        "# Ensure the final dataframe adheres to non-negativity and rounding, if not already done\n",
        "processed_data = clean_data(processed_data)\n",
        "\n",
        "# Save the combined dataset to a new CSV file\n",
        "processed_data.to_csv('final_multi_balanced_data.csv', index=False)\n",
        "\n",
        "print(\"Augmented balanced dataset with original and synthetic data created and saved.\")\n"
      ]
    },
    {
      "cell_type": "code",
      "execution_count": null,
      "metadata": {
        "colab": {
          "base_uri": "https://localhost:8080/"
        },
        "id": "Q5dO1W_nsTqv",
        "outputId": "3695e3bc-7728-470b-f113-11db02bbc39b"
      },
      "outputs": [
        {
          "name": "stdout",
          "output_type": "stream",
          "text": [
            "\n",
            "Count of labels in 'attack_method':\n",
            "1    40318\n",
            "0    10079\n",
            "3    10079\n",
            "2    10079\n",
            "4    10079\n",
            "Name: attack_method, dtype: int64\n",
            "\n",
            "There are 5 unique labels in the 'attack_method' column.\n"
          ]
        }
      ],
      "source": [
        "import pandas as pd\n",
        "df = pd.read_csv('augmented_balanced_data_new.csv')\n",
        "\n",
        "# Count and display the number of labels in attack_method\n",
        "if 'attack_method' in df:\n",
        "    print(\"\\nCount of labels in 'attack_method':\")\n",
        "    label_counts = df['attack_method'].value_counts()\n",
        "    print(label_counts)\n",
        "    print(f\"\\nThere are {len(label_counts)} unique labels in the 'attack_method' column.\")\n",
        "else:\n",
        "    print(\"\\n'attack_method' column was not found in the DataFrame.\")"
      ]
    }
  ],
  "metadata": {
    "colab": {
      "provenance": []
    },
    "kernelspec": {
      "display_name": "Python 3",
      "name": "python3"
    },
    "language_info": {
      "name": "python"
    }
  },
  "nbformat": 4,
  "nbformat_minor": 0
}
